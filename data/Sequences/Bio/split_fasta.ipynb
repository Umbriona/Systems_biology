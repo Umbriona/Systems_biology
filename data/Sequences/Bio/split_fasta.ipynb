{
 "cells": [
  {
   "cell_type": "code",
   "execution_count": 5,
   "id": "ad8929b9-2af6-4bc7-b6a4-4e8f2c86050a",
   "metadata": {},
   "outputs": [],
   "source": [
    "from Bio import SeqIO\n",
    "import os\n",
    "\n",
    "file = \"mdh_bio_muts.fasta\"\n",
    "\n",
    "DIR = \"MDH_BIO_SEQS\"\n",
    "\n",
    "\n",
    "for rec in SeqIO.parse(file, \"fasta\"):\n",
    "    with open(os.path.join(DIR, f\"{rec.id}.fasta\"), \"w\") as f:\n",
    "        f.write(f\">{rec.id}\\n{str(rec.seq)}\\n\")"
   ]
  },
  {
   "cell_type": "code",
   "execution_count": null,
   "id": "fb3a280a-24f9-4f67-a2d1-4bf516227ea2",
   "metadata": {},
   "outputs": [],
   "source": []
  }
 ],
 "metadata": {
  "kernelspec": {
   "display_name": "Python 3 (ipykernel)",
   "language": "python",
   "name": "python3"
  },
  "language_info": {
   "codemirror_mode": {
    "name": "ipython",
    "version": 3
   },
   "file_extension": ".py",
   "mimetype": "text/x-python",
   "name": "python",
   "nbconvert_exporter": "python",
   "pygments_lexer": "ipython3",
   "version": "3.9.16"
  }
 },
 "nbformat": 4,
 "nbformat_minor": 5
}
